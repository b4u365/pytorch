{
 "cells": [
  {
   "cell_type": "code",
   "execution_count": 1,
   "metadata": {},
   "outputs": [],
   "source": [
    "import torch\n",
    "import numpy as np"
   ]
  },
  {
   "cell_type": "code",
   "execution_count": 2,
   "metadata": {},
   "outputs": [],
   "source": [
    "import torch.nn as nn"
   ]
  },
  {
   "cell_type": "code",
   "execution_count": 3,
   "metadata": {},
   "outputs": [],
   "source": [
    "# Input (temp, rainfall, humidity)\n",
    "inputs = np.array([[73, 67, 43], \n",
    "                   [91, 88, 64], \n",
    "                   [87, 134, 58], \n",
    "                   [102, 43, 37], \n",
    "                   [69, 96, 70], \n",
    "                   [74, 66, 43], \n",
    "                   [91, 87, 65], \n",
    "                   [88, 134, 59], \n",
    "                   [101, 44, 37], \n",
    "                   [68, 96, 71], \n",
    "                   [73, 66, 44], \n",
    "                   [92, 87, 64], \n",
    "                   [87, 135, 57], \n",
    "                   [103, 43, 36], \n",
    "                   [68, 97, 70]], \n",
    "                  dtype='float32')\n",
    "\n",
    "# Targets (apples, oranges)\n",
    "targets = np.array([[56, 70], \n",
    "                    [81, 101], \n",
    "                    [119, 133], \n",
    "                    [22, 37], \n",
    "                    [103, 119],\n",
    "                    [57, 69], \n",
    "                    [80, 102], \n",
    "                    [118, 132], \n",
    "                    [21, 38], \n",
    "                    [104, 118], \n",
    "                    [57, 69], \n",
    "                    [82, 100], \n",
    "                    [118, 134], \n",
    "                    [20, 38], \n",
    "                    [102, 120]], \n",
    "                   dtype='float32')"
   ]
  },
  {
   "cell_type": "code",
   "execution_count": 4,
   "metadata": {},
   "outputs": [],
   "source": [
    "input=torch.from_numpy(inputs)\n",
    "target=torch.from_numpy(targets)"
   ]
  },
  {
   "cell_type": "code",
   "execution_count": 5,
   "metadata": {},
   "outputs": [
    {
     "data": {
      "text/plain": [
       "tensor([[ 73.,  67.,  43.],\n",
       "        [ 91.,  88.,  64.],\n",
       "        [ 87., 134.,  58.],\n",
       "        [102.,  43.,  37.],\n",
       "        [ 69.,  96.,  70.],\n",
       "        [ 74.,  66.,  43.],\n",
       "        [ 91.,  87.,  65.],\n",
       "        [ 88., 134.,  59.],\n",
       "        [101.,  44.,  37.],\n",
       "        [ 68.,  96.,  71.],\n",
       "        [ 73.,  66.,  44.],\n",
       "        [ 92.,  87.,  64.],\n",
       "        [ 87., 135.,  57.],\n",
       "        [103.,  43.,  36.],\n",
       "        [ 68.,  97.,  70.]])"
      ]
     },
     "execution_count": 5,
     "metadata": {},
     "output_type": "execute_result"
    }
   ],
   "source": [
    "input"
   ]
  },
  {
   "cell_type": "code",
   "execution_count": 6,
   "metadata": {},
   "outputs": [],
   "source": [
    "from torch.utils.data import TensorDataset"
   ]
  },
  {
   "cell_type": "code",
   "execution_count": 7,
   "metadata": {},
   "outputs": [
    {
     "data": {
      "text/plain": [
       "(tensor([[ 73.,  67.,  43.],\n",
       "         [ 91.,  88.,  64.],\n",
       "         [ 87., 134.,  58.]]),\n",
       " tensor([[ 56.,  70.],\n",
       "         [ 81., 101.],\n",
       "         [119., 133.]]))"
      ]
     },
     "execution_count": 7,
     "metadata": {},
     "output_type": "execute_result"
    }
   ],
   "source": [
    "train_ds=TensorDataset(input,target)\n",
    "train_ds[0:3]"
   ]
  },
  {
   "cell_type": "code",
   "execution_count": 8,
   "metadata": {},
   "outputs": [],
   "source": [
    "from torch.utils.data import DataLoader"
   ]
  },
  {
   "cell_type": "code",
   "execution_count": 9,
   "metadata": {},
   "outputs": [],
   "source": [
    "bs=5\n",
    "train_dl=DataLoader(train_ds,bs,shuffle=True)"
   ]
  },
  {
   "cell_type": "code",
   "execution_count": 10,
   "metadata": {},
   "outputs": [
    {
     "name": "stdout",
     "output_type": "stream",
     "text": [
      "tensor([[91., 87., 65.],\n",
      "        [73., 67., 43.],\n",
      "        [68., 96., 71.],\n",
      "        [69., 96., 70.],\n",
      "        [92., 87., 64.]])\n",
      "tensor([[ 80., 102.],\n",
      "        [ 56.,  70.],\n",
      "        [104., 118.],\n",
      "        [103., 119.],\n",
      "        [ 82., 100.]])\n"
     ]
    }
   ],
   "source": [
    "for xb,yb in train_dl:\n",
    "    print(xb)\n",
    "    print(yb)\n",
    "    break"
   ]
  },
  {
   "cell_type": "code",
   "execution_count": 11,
   "metadata": {},
   "outputs": [
    {
     "name": "stdout",
     "output_type": "stream",
     "text": [
      "Parameter containing:\n",
      "tensor([[-0.1004,  0.4508, -0.1331],\n",
      "        [-0.1155,  0.3330,  0.1455]], requires_grad=True)\n",
      "Parameter containing:\n",
      "tensor([-0.4219, -0.1062], requires_grad=True)\n"
     ]
    }
   ],
   "source": [
    "model=nn.Linear(3,2) # 3 inputs and 2 outputs\n",
    "print(model.weight)\n",
    "print(model.bias)"
   ]
  },
  {
   "cell_type": "code",
   "execution_count": 12,
   "metadata": {},
   "outputs": [
    {
     "data": {
      "text/plain": [
       "[Parameter containing:\n",
       " tensor([[-0.1004,  0.4508, -0.1331],\n",
       "         [-0.1155,  0.3330,  0.1455]], requires_grad=True),\n",
       " Parameter containing:\n",
       " tensor([-0.4219, -0.1062], requires_grad=True)]"
      ]
     },
     "execution_count": 12,
     "metadata": {},
     "output_type": "execute_result"
    }
   ],
   "source": [
    "list(model.parameters())"
   ]
  },
  {
   "cell_type": "code",
   "execution_count": 13,
   "metadata": {},
   "outputs": [
    {
     "data": {
      "text/plain": [
       "tensor([[16.7255, 20.0344],\n",
       "        [21.5893, 28.0055],\n",
       "        [43.5245, 42.9129],\n",
       "        [ 3.7929,  7.8200],\n",
       "        [26.6067, 34.0833],\n",
       "        [16.1743, 19.5859],\n",
       "        [21.0055, 27.8180],\n",
       "        [43.2910, 42.9430],\n",
       "        [ 4.3441,  8.2685],\n",
       "        [26.5741, 34.3443],\n",
       "        [16.1417, 19.8469],\n",
       "        [21.0381, 27.5570],\n",
       "        [44.1083, 43.1004],\n",
       "        [ 3.8255,  7.5590],\n",
       "        [27.1579, 34.5318]], grad_fn=<AddmmBackward>)"
      ]
     },
     "execution_count": 13,
     "metadata": {},
     "output_type": "execute_result"
    }
   ],
   "source": [
    "preds=model(input)\n",
    "preds"
   ]
  },
  {
   "cell_type": "code",
   "execution_count": 14,
   "metadata": {},
   "outputs": [],
   "source": [
    "import torch.nn.functional as F"
   ]
  },
  {
   "cell_type": "code",
   "execution_count": 15,
   "metadata": {},
   "outputs": [],
   "source": [
    "loss_fn=F.mse_loss"
   ]
  },
  {
   "cell_type": "code",
   "execution_count": 16,
   "metadata": {},
   "outputs": [
    {
     "data": {
      "text/plain": [
       "tensor(4085.4861, grad_fn=<MseLossBackward>)"
      ]
     },
     "execution_count": 16,
     "metadata": {},
     "output_type": "execute_result"
    }
   ],
   "source": [
    "loss=loss_fn(preds,target)\n",
    "loss"
   ]
  },
  {
   "cell_type": "code",
   "execution_count": 17,
   "metadata": {},
   "outputs": [],
   "source": [
    "opt=torch.optim.SGD(model.parameters(),lr=1e-5)"
   ]
  },
  {
   "cell_type": "code",
   "execution_count": 18,
   "metadata": {},
   "outputs": [],
   "source": [
    "def fit(num_epochs,model,loss_fn,opt,train_dl):\n",
    "    for epoch in range(num_epochs):\n",
    "        for xb,yb in train_dl:\n",
    "            preds=model(xb)\n",
    "            loss_fn=F.mse_loss\n",
    "            loss=loss_fn(preds,yb)\n",
    "            loss.backward()\n",
    "            opt.step() # update the weights and biasis\n",
    "            opt.zero_grad() # reset the gratdiants to zero\n",
    "        if(epoch+1)%10 ==0:\n",
    "            print(f'Epoch [{epoch+1}/{num_epochs}], Loss: {loss.item()}')\n",
    "\n",
    "\n"
   ]
  },
  {
   "cell_type": "code",
   "execution_count": 19,
   "metadata": {},
   "outputs": [
    {
     "name": "stdout",
     "output_type": "stream",
     "text": [
      "Epoch [10/100], Loss: 158.63681030273438\n",
      "Epoch [20/100], Loss: 122.2944107055664\n",
      "Epoch [30/100], Loss: 85.65492248535156\n",
      "Epoch [40/100], Loss: 105.11962890625\n",
      "Epoch [50/100], Loss: 61.9456901550293\n",
      "Epoch [60/100], Loss: 45.76727294921875\n",
      "Epoch [70/100], Loss: 38.04197311401367\n",
      "Epoch [80/100], Loss: 59.22895431518555\n",
      "Epoch [90/100], Loss: 15.398846626281738\n",
      "Epoch [100/100], Loss: 13.661625862121582\n"
     ]
    }
   ],
   "source": [
    "fit(100,model,loss_fn,opt,train_dl)"
   ]
  },
  {
   "cell_type": "code",
   "execution_count": 24,
   "metadata": {},
   "outputs": [
    {
     "data": {
      "text/plain": [
       "tensor([[ 57.8884,  71.2249],\n",
       "        [ 79.0922,  98.1772],\n",
       "        [123.3547, 136.7235],\n",
       "        [ 26.3302,  42.4693],\n",
       "        [ 93.4470, 111.6288],\n",
       "        [ 56.6816,  70.1862],\n",
       "        [ 78.3568,  97.8007],\n",
       "        [123.3581, 137.0935],\n",
       "        [ 27.5370,  43.5080],\n",
       "        [ 93.9184, 112.2910],\n",
       "        [ 57.1530,  70.8484],\n",
       "        [ 77.8854,  97.1385],\n",
       "        [124.0901, 137.1000],\n",
       "        [ 25.8588,  41.8071],\n",
       "        [ 94.6538, 112.6675]], grad_fn=<AddmmBackward>)"
      ]
     },
     "execution_count": 24,
     "metadata": {},
     "output_type": "execute_result"
    }
   ],
   "source": [
    "preds=model(input)\n",
    "preds"
   ]
  },
  {
   "cell_type": "code",
   "execution_count": 23,
   "metadata": {},
   "outputs": [
    {
     "data": {
      "text/plain": [
       "array([[ 56.,  70.],\n",
       "       [ 81., 101.],\n",
       "       [119., 133.],\n",
       "       [ 22.,  37.],\n",
       "       [103., 119.],\n",
       "       [ 57.,  69.],\n",
       "       [ 80., 102.],\n",
       "       [118., 132.],\n",
       "       [ 21.,  38.],\n",
       "       [104., 118.],\n",
       "       [ 57.,  69.],\n",
       "       [ 82., 100.],\n",
       "       [118., 134.],\n",
       "       [ 20.,  38.],\n",
       "       [102., 120.]], dtype=float32)"
      ]
     },
     "execution_count": 23,
     "metadata": {},
     "output_type": "execute_result"
    }
   ],
   "source": [
    "targets"
   ]
  }
 ],
 "metadata": {
  "kernelspec": {
   "display_name": "venv",
   "language": "python",
   "name": "venv"
  },
  "language_info": {
   "codemirror_mode": {
    "name": "ipython",
    "version": 3
   },
   "file_extension": ".py",
   "mimetype": "text/x-python",
   "name": "python",
   "nbconvert_exporter": "python",
   "pygments_lexer": "ipython3",
   "version": "3.8.0"
  },
  "orig_nbformat": 4
 },
 "nbformat": 4,
 "nbformat_minor": 2
}
